{
 "cells": [
  {
   "cell_type": "code",
   "execution_count": 1,
   "metadata": {},
   "outputs": [],
   "source": [
    "import torch\n",
    "\n",
    "from pytorch_metric_learning.distances import LpDistance, CosineSimilarity, DotProductSimilarity\n",
    "from pytorch_metric_learning.losses import NTXentLoss, SupConLoss\n",
    "from pytorch_metric_learning.reducers import AvgNonZeroReducer, PerAnchorReducer\n",
    "from pytorch_metric_learning.utils import common_functions as c_f\n",
    "\n",
    "import os\n",
    "\n",
    "TEST_DEVICE = torch.device(os.environ.get(\"TEST_DEVICE\", \"cuda\"))\n",
    "\n",
    "dtypes_from_environ = os.environ.get(\"TEST_DTYPES\", \"float16,float32,float64\").split(\n",
    "    \",\"\n",
    ")\n",
    "TEST_DTYPES = [getattr(torch, x) for x in dtypes_from_environ]"
   ]
  },
  {
   "cell_type": "code",
   "execution_count": 2,
   "metadata": {},
   "outputs": [
    {
     "name": "stdout",
     "output_type": "stream",
     "text": [
      "tensor([[ 0.3272,  0.8661, -1.3020, -0.3160, -1.4932, -0.6192,  0.8469, -0.6799,\n",
      "         -1.6485,  2.2359,  0.7302,  1.4681,  0.0466],\n",
      "        [ 1.2040,  1.9452,  1.0550, -0.5377, -0.3891, -1.2407, -1.2048, -0.7506,\n",
      "          0.4507, -0.9812, -1.2910,  0.4463, -0.7544],\n",
      "        [ 0.7839,  0.7656, -0.8558, -1.8627,  1.4193,  1.9446, -1.3686,  1.5245,\n",
      "          1.5849, -0.7058, -0.1134, -1.3433, -0.6476],\n",
      "        [ 0.5674, -1.7444, -1.3082, -0.2297, -0.2414, -1.4376,  0.8838,  1.8955,\n",
      "          1.2364,  0.4783,  0.2757,  0.0828,  1.2334],\n",
      "        [-1.2474,  0.1740, -1.0800, -1.1750,  0.1283, -0.1786, -0.5509,  0.6440,\n",
      "         -1.0947,  1.6392,  1.8218, -0.1523,  0.5351],\n",
      "        [-1.2571, -0.0577, -0.4294, -1.4806,  0.5772,  0.6457,  2.9357,  0.4129,\n",
      "         -0.5948,  1.3127,  1.9486,  0.7775,  0.1448]])\n"
     ]
    }
   ],
   "source": [
    "# embeddings\n",
    "batch_size = 6\n",
    "hidden_dim = 13\n",
    "\n",
    "embeddings = torch.randn((batch_size, hidden_dim))\n",
    "print(embeddings)"
   ]
  },
  {
   "cell_type": "code",
   "execution_count": 3,
   "metadata": {},
   "outputs": [],
   "source": [
    "# labels\n",
    "labels = torch.LongTensor([0, 0, 0, 1, 1, 2])"
   ]
  },
  {
   "cell_type": "code",
   "execution_count": 4,
   "metadata": {},
   "outputs": [
    {
     "name": "stdout",
     "output_type": "stream",
     "text": [
      "SupConLoss(\n",
      "  (distance): CosineSimilarity()\n",
      "  (reducer): AvgNonZeroReducer()\n",
      ")\n"
     ]
    }
   ],
   "source": [
    "# loss_funcA\n",
    "temperature = 0.1\n",
    "\n",
    "loss_funcA = SupConLoss(temperature=temperature)\n",
    "print(loss_funcA)\n"
   ]
  },
  {
   "cell_type": "code",
   "execution_count": 5,
   "metadata": {},
   "outputs": [
    {
     "name": "stdout",
     "output_type": "stream",
     "text": [
      "tensor(3.6946) <class 'torch.Tensor'>\n"
     ]
    }
   ],
   "source": [
    "# 计算 loss A\n",
    "loss_A = loss_funcA(embeddings, labels).float()\n",
    "print(loss_A, type(loss_A))"
   ]
  },
  {
   "cell_type": "code",
   "execution_count": 6,
   "metadata": {},
   "outputs": [
    {
     "name": "stdout",
     "output_type": "stream",
     "text": [
      "tensor(0.3649) tensor(218.6342) tensor(6.3954)\n",
      "tensor(0.0073) tensor(218.6342) tensor(10.3051)\n",
      "tensor(0.3649) tensor(2.8354) tensor(2.0502)\n",
      "tensor(2.4404) tensor(2.8354) tensor(0.1500)\n",
      "tensor(0.0073) tensor(5.1348) tensor(6.5537)\n",
      "tensor(2.4404) tensor(5.1348) tensor(0.7439)\n",
      "tensor(5.0586) tensor(14.0618) tensor(1.0224)\n",
      "tensor(5.0586) tensor(392.4407) tensor(4.3513)\n",
      "total_lossA:  3.6945752680301664 <class 'float'>\n"
     ]
    },
    {
     "ename": "TypeError",
     "evalue": "isclose(): argument 'other' (position 2) must be Tensor, not float",
     "output_type": "error",
     "traceback": [
      "\u001b[1;31m---------------------------------------------------------------------------\u001b[0m",
      "\u001b[1;31mTypeError\u001b[0m                                 Traceback (most recent call last)",
      "\u001b[1;32m<ipython-input-6-e10ffac5c650>\u001b[0m in \u001b[0;36m<module>\u001b[1;34m\u001b[0m\n\u001b[0;32m     47\u001b[0m \u001b[1;33m\u001b[0m\u001b[0m\n\u001b[0;32m     48\u001b[0m \u001b[0mrtol\u001b[0m \u001b[1;33m=\u001b[0m \u001b[1;36m1e-4\u001b[0m\u001b[1;33m\u001b[0m\u001b[1;33m\u001b[0m\u001b[0m\n\u001b[1;32m---> 49\u001b[1;33m \u001b[1;32massert\u001b[0m \u001b[0mtorch\u001b[0m\u001b[1;33m.\u001b[0m\u001b[0misclose\u001b[0m\u001b[1;33m(\u001b[0m\u001b[0mloss_A\u001b[0m\u001b[1;33m,\u001b[0m \u001b[0mtotal_lossA\u001b[0m\u001b[1;33m,\u001b[0m \u001b[0mrtol\u001b[0m\u001b[1;33m=\u001b[0m\u001b[0mrtol\u001b[0m\u001b[1;33m)\u001b[0m\u001b[1;33m\u001b[0m\u001b[1;33m\u001b[0m\u001b[0m\n\u001b[0m",
      "\u001b[1;31mTypeError\u001b[0m: isclose(): argument 'other' (position 2) must be Tensor, not float"
     ]
    }
   ],
   "source": [
    "# 复现计算过程\n",
    "# 注意：distance默认是 CosineSimilarity()\n",
    "\n",
    "pos_pairs = [(0, 1), (0, 2), (1, 0), (1, 2), (2, 0), (2, 1), (3, 4), (4, 3)]\n",
    "neg_pairs = [\n",
    "    (0, 3), (0, 4), (0, 5),\n",
    "    (1, 3), (1, 4), (1, 5),\n",
    "    (2, 3), (2, 4), (2, 5),\n",
    "    (3, 0), (3, 1), (3, 2), (3, 5),\n",
    "    (4, 0), (4, 1), (4, 2), (4, 5),\n",
    "    (5, 0), (5, 1), (5, 2), (5, 3), (5, 4),\n",
    "]\n",
    "\n",
    "total_lossA = torch.zeros(5, device=\"cpu\", dtype=torch.float64)\n",
    "\n",
    "for a1, p in pos_pairs:\n",
    "    # a1: anchor;\n",
    "    # p: positive instance\n",
    "    \n",
    "    anchor, positive = embeddings[a1], embeddings[p]\n",
    "    numeratorA = torch.exp(torch.matmul(anchor, positive) / (temperature * torch.norm(anchor) * torch.norm(positive)))\n",
    "    \n",
    "    denominatorA = 0\n",
    "    \n",
    "    for a2, n in pos_pairs + neg_pairs:\n",
    "        # n: negative instance\n",
    "        \n",
    "        if a2 == a1:\n",
    "            negative = embeddings[n]\n",
    "            curr_denomD = torch.exp(\n",
    "                torch.matmul(anchor, negative) / (temperature * torch.norm(anchor) * torch.norm(negative))\n",
    "            )\n",
    "            denominatorA += curr_denomD\n",
    "            \n",
    "        else:\n",
    "            continue\n",
    "    \n",
    "    print(numeratorA, denominatorA, - torch.log(numeratorA / denominatorA))\n",
    "    curr_lossA = -torch.log(numeratorA / denominatorA)\n",
    "    total_lossA[a1] += curr_lossA\n",
    "\n",
    "pos_pair_per_anchor = torch.tensor(\n",
    "    [2, 2, 2, 1, 1], device=\"cpu\", dtype=torch.float64\n",
    ")\n",
    "total_lossA = torch.mean(total_lossA / pos_pair_per_anchor).cpu().numpy().tolist()\n",
    "print(\"total_lossA: \", total_lossA, type(total_lossA))\n",
    "\n",
    "rtol = 1e-4\n",
    "assert torch.isclose(loss_A, total_lossA, rtol=rtol)"
   ]
  },
  {
   "cell_type": "code",
   "execution_count": null,
   "metadata": {},
   "outputs": [],
   "source": []
  },
  {
   "cell_type": "code",
   "execution_count": null,
   "metadata": {},
   "outputs": [],
   "source": []
  },
  {
   "cell_type": "code",
   "execution_count": null,
   "metadata": {},
   "outputs": [],
   "source": []
  },
  {
   "cell_type": "code",
   "execution_count": null,
   "metadata": {},
   "outputs": [],
   "source": []
  }
 ],
 "metadata": {
  "kernelspec": {
   "display_name": "Python 3",
   "language": "python",
   "name": "python3"
  },
  "language_info": {
   "codemirror_mode": {
    "name": "ipython",
    "version": 3
   },
   "file_extension": ".py",
   "mimetype": "text/x-python",
   "name": "python",
   "nbconvert_exporter": "python",
   "pygments_lexer": "ipython3",
   "version": "3.8.8"
  }
 },
 "nbformat": 4,
 "nbformat_minor": 1
}
